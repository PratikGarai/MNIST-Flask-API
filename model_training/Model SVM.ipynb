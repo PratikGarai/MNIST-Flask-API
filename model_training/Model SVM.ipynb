{
 "cells": [
  {
   "cell_type": "markdown",
   "metadata": {},
   "source": [
    "## Loading the dataset"
   ]
  },
  {
   "cell_type": "code",
   "execution_count": 1,
   "metadata": {},
   "outputs": [],
   "source": [
    "import pandas as pd\n",
    "from sklearn import datasets, svm, metrics\n",
    "from sklearn.model_selection import train_test_split\n",
    "\n",
    "digits = pd.read_csv(\"train.csv\")"
   ]
  },
  {
   "cell_type": "markdown",
   "metadata": {},
   "source": [
    "## Making model"
   ]
  },
  {
   "cell_type": "code",
   "execution_count": 2,
   "metadata": {},
   "outputs": [],
   "source": [
    "n_samples = len(digits.values)\n",
    "x = digits.drop(['label'], axis=1)\n",
    "y = digits['label']\n",
    "data = x.values.reshape((n_samples, -1))\n",
    "X_train, X_test, y_train, y_test = train_test_split(\n",
    "    x, y, test_size=0.5, shuffle=False)"
   ]
  },
  {
   "cell_type": "code",
   "execution_count": 3,
   "metadata": {},
   "outputs": [
    {
     "data": {
      "text/plain": [
       "SVC()"
      ]
     },
     "execution_count": 3,
     "metadata": {},
     "output_type": "execute_result"
    }
   ],
   "source": [
    "clf = svm.SVC()\n",
    "clf.fit(X_train, y_train)"
   ]
  },
  {
   "cell_type": "code",
   "execution_count": 4,
   "metadata": {},
   "outputs": [],
   "source": [
    "predicted = clf.predict(X_test)"
   ]
  },
  {
   "cell_type": "markdown",
   "metadata": {},
   "source": [
    "## Checking model's accuracy"
   ]
  },
  {
   "cell_type": "code",
   "execution_count": 5,
   "metadata": {},
   "outputs": [
    {
     "name": "stdout",
     "output_type": "stream",
     "text": [
      "Classification report for classifier SVC():\n",
      "              precision    recall  f1-score   support\n",
      "\n",
      "           0       0.98      0.99      0.98      2088\n",
      "           1       0.98      0.99      0.99      2312\n",
      "           2       0.97      0.97      0.97      2069\n",
      "           3       0.97      0.96      0.96      2174\n",
      "           4       0.96      0.97      0.97      1997\n",
      "           5       0.97      0.97      0.97      1897\n",
      "           6       0.98      0.98      0.98      2062\n",
      "           7       0.97      0.98      0.97      2234\n",
      "           8       0.97      0.96      0.97      2058\n",
      "           9       0.96      0.95      0.95      2109\n",
      "\n",
      "    accuracy                           0.97     21000\n",
      "   macro avg       0.97      0.97      0.97     21000\n",
      "weighted avg       0.97      0.97      0.97     21000\n",
      "\n",
      "\n"
     ]
    }
   ],
   "source": [
    "print(f\"Classification report for classifier {clf}:\\n\"\n",
    "      f\"{metrics.classification_report(y_test, predicted)}\\n\")"
   ]
  },
  {
   "cell_type": "code",
   "execution_count": 6,
   "metadata": {},
   "outputs": [
    {
     "name": "stdout",
     "output_type": "stream",
     "text": [
      "Confusion matrix for classifier SVC():\n",
      "[[2061    0    2    1    3    4    9    0    6    2]\n",
      " [   0 2284   11    4    3    1    0    4    5    0]\n",
      " [   6    2 2006   12    9    3    6   15    9    1]\n",
      " [   4    4   22 2080    1   19    2   11   20   11]\n",
      " [   6    5    5    0 1934    0    9    1    3   34]\n",
      " [   7    2    5   22    5 1833   15    1    4    3]\n",
      " [  11    3    3    0    4   12 2026    0    3    0]\n",
      " [   3    6    8    0    9    0    0 2179    2   27]\n",
      " [   2   13    9    9   10   16    7    4 1981    7]\n",
      " [   6    6    3   24   28    5    0   28   13 1996]]\n",
      "\n"
     ]
    }
   ],
   "source": [
    "print(f\"Confusion matrix for classifier {clf}:\\n\"\n",
    "      f\"{metrics.confusion_matrix(y_test, predicted)}\\n\")"
   ]
  },
  {
   "cell_type": "code",
   "execution_count": 7,
   "metadata": {},
   "outputs": [
    {
     "name": "stdout",
     "output_type": "stream",
     "text": [
      "0.9704761904761905\n"
     ]
    }
   ],
   "source": [
    "print(clf.score(X_test, y_test))"
   ]
  },
  {
   "cell_type": "markdown",
   "metadata": {},
   "source": [
    "## Saving the model"
   ]
  },
  {
   "cell_type": "code",
   "execution_count": 8,
   "metadata": {},
   "outputs": [],
   "source": [
    "import pickle\n",
    "pickle.dump(clf, open('model.sav', 'wb'))"
   ]
  }
 ],
 "metadata": {
  "kernelspec": {
   "display_name": "Python 3",
   "language": "python",
   "name": "python3"
  },
  "language_info": {
   "codemirror_mode": {
    "name": "ipython",
    "version": 3
   },
   "file_extension": ".py",
   "mimetype": "text/x-python",
   "name": "python",
   "nbconvert_exporter": "python",
   "pygments_lexer": "ipython3",
   "version": "3.8.5"
  }
 },
 "nbformat": 4,
 "nbformat_minor": 4
}
